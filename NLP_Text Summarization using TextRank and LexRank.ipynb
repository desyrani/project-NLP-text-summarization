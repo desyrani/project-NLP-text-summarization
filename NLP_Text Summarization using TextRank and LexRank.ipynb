{
 "cells": [
  {
   "cell_type": "markdown",
   "metadata": {
    "id": "opKt_hugw0df"
   },
   "source": [
    "# LAB 5 - NLP\n"
   ]
  },
  {
   "cell_type": "markdown",
   "metadata": {
    "id": "0aSlv7V4xF00"
   },
   "source": [
    "1. Extractive Summarization"
   ]
  },
  {
   "cell_type": "markdown",
   "metadata": {
    "id": "5QT2_MkjxHKz"
   },
   "source": [
    "Step 1-1 Import Libraries and define input sentences\n"
   ]
  },
  {
   "cell_type": "code",
   "execution_count": 145,
   "metadata": {
    "id": "Qu0CBOoBw-uF"
   },
   "outputs": [],
   "source": [
    "# Import necessary libraries\n",
    "import networkx as nx\n",
    "from sklearn.feature_extraction.text import TfidfVectorizer\n",
    "from sklearn.metrics.pairwise import cosine_similarity\n",
    "\n",
    "# Example sentences\n",
    "sentences = [\n",
    "\"Artificial intelligence is transforming industries.\",\n",
    "\"Applications of AI include healthcare, finance, and education.\",\n",
    "\"AI improves efficiency but raises ethical concerns like privacy.\",\n",
    "\"Healthcare benefits from AI in diagnostics and patient care.\"\n",
    "]"
   ]
  },
  {
   "cell_type": "markdown",
   "metadata": {
    "id": "0baLJcB5xSBf"
   },
   "source": [
    "Step 1-2 Define function to calculate Cosine Similarity Matrix"
   ]
  },
  {
   "cell_type": "code",
   "execution_count": 146,
   "metadata": {
    "id": "pwfCAFSGxVRr"
   },
   "outputs": [],
   "source": [
    "# Function to calculate cosine similarity matrix\n",
    "def build_similarity_matrix(sentences):\n",
    "    vectorizer = TfidfVectorizer()\n",
    "    tfidf_matrix = vectorizer. fit_transform(sentences)\n",
    "    similarity_matrix = cosine_similarity(tfidf_matrix)\n",
    "    return similarity_matrix"
   ]
  },
  {
   "cell_type": "markdown",
   "metadata": {
    "id": "GYJq8XyrxW4M"
   },
   "source": [
    "Step 1-3 Define function for TextRank Algorithm"
   ]
  },
  {
   "cell_type": "code",
   "execution_count": 147,
   "metadata": {
    "id": "IvSQ7euYxwVj"
   },
   "outputs": [],
   "source": [
    "# Function for TextRank Algorithm\n",
    "def textrank(sentences, similarity_matrix, damping=0.85, max_iter=100, tol=1e-4):\n",
    "    G = nx.Graph()\n",
    "    for i in range(len(sentences)):\n",
    "        for j in range(len(sentences)):\n",
    "            if i != j:\n",
    "                G.add_edge(i, j, weight=similarity_matrix[i][j])\n",
    "\n",
    "    scores = nx.pagerank(G, alpha=damping, max_iter=max_iter, tol=tol)\n",
    "    ranked_sentences = sorted(((scores[i], s) for i, s in enumerate(sentences)),\n",
    "        reverse=True\n",
    "    )\n",
    "    return ranked_sentences\n"
   ]
  },
  {
   "cell_type": "markdown",
   "metadata": {
    "id": "H6MuSPUBxyUW"
   },
   "source": [
    "Step 1-4 Build Similarity Matrix"
   ]
  },
  {
   "cell_type": "code",
   "execution_count": 148,
   "metadata": {
    "id": "zJvOMACfx2Fq"
   },
   "outputs": [],
   "source": [
    "# Build similarity matrix\n",
    "similarity_matrix = build_similarity_matrix(sentences)"
   ]
  },
  {
   "cell_type": "markdown",
   "metadata": {
    "id": "uhRd9iQ6x4RO"
   },
   "source": [
    "Step 1-5 Apply TextRank"
   ]
  },
  {
   "cell_type": "code",
   "execution_count": 149,
   "metadata": {
    "id": "2fnurklbx6Ym"
   },
   "outputs": [],
   "source": [
    "# Apply TextRank\n",
    "textrank_results = textrank(sentences, similarity_matrix)"
   ]
  },
  {
   "cell_type": "markdown",
   "metadata": {
    "id": "iKHZK4Otx8Ke"
   },
   "source": [
    "Step 1-6 Display the result"
   ]
  },
  {
   "cell_type": "code",
   "execution_count": 150,
   "metadata": {
    "colab": {
     "base_uri": "https://localhost:8080/"
    },
    "id": "lLG8YY7Ox_LG",
    "outputId": "c76a3fb9-2a4e-419e-cd12-cb4599676724"
   },
   "outputs": [
    {
     "name": "stdout",
     "output_type": "stream",
     "text": [
      "TextRank Sentence Scores:\n",
      "Score: 0.3934, Sentence: Applications of AI include healthcare, finance, and education.\n",
      "Score: 0.3882, Sentence: Healthcare benefits from AI in diagnostics and patient care.\n",
      "Score: 0.1707, Sentence: AI improves efficiency but raises ethical concerns like privacy.\n",
      "Score: 0.0476, Sentence: Artificial intelligence is transforming industries.\n"
     ]
    }
   ],
   "source": [
    "# Print TextRank Results (All sentences with their scores)\n",
    "print(\"TextRank Sentence Scores:\")\n",
    "for score, sentence in textrank_results:\n",
    "    print(f\"Score: {score:.4f}, Sentence: {sentence}\")"
   ]
  },
  {
   "cell_type": "markdown",
   "metadata": {
    "id": "odBbZS_3yAm-"
   },
   "source": [
    "Step 1-7 Implement LexRank"
   ]
  },
  {
   "cell_type": "code",
   "execution_count": 151,
   "metadata": {
    "id": "1ClGz_TOyCyr"
   },
   "outputs": [],
   "source": [
    "# Function for LexRank Algorithm\n",
    "def lexrank(sentences, similarity_matrix, threshold=0.2):\n",
    "    n = len(sentences)\n",
    "    G = nx.Graph()\n",
    "\n",
    "    #build the graph with thresholding\n",
    "    for i in range(n):\n",
    "        for j in range(n):\n",
    "            if i != j and similarity_matrix[i][j] > threshold:\n",
    "                G.add_edge(i, j, weight=similarity_matrix[i][j])\n",
    "\n",
    "    # Compute PageRank\n",
    "    scores = nx.pagerank(G, max_iter=100, tol=1e-6)\n",
    "    # Collect all scores\n",
    "    ranked_sentences = sorted(\n",
    "        ((scores[node], sentences[node]) for node in scores),\n",
    "        reverse=True\n",
    "    )\n",
    "    return scores, ranked_sentences\n"
   ]
  },
  {
   "cell_type": "code",
   "execution_count": 152,
   "metadata": {
    "colab": {
     "base_uri": "https://localhost:8080/"
    },
    "id": "CYMYzKnj1An4",
    "outputId": "ec384056-6e1f-44e2-ce7a-50034342110a"
   },
   "outputs": [
    {
     "name": "stdout",
     "output_type": "stream",
     "text": [
      "LexRank Sentence Scores (All Sentences):\n",
      "Sentence 2: Score: 0.5000\n",
      "Sentence 4: Score: 0.5000\n",
      "\n",
      "LexRank Summary:\n",
      "Score: 0.5000, Sentence: Healthcare benefits from AI in diagnostics and patient care.\n",
      "Score: 0.5000, Sentence: Applications of AI include healthcare, finance, and education.\n"
     ]
    }
   ],
   "source": [
    "# Build similarity matrix\n",
    "similarity_matrix = build_similarity_matrix(sentences)\n",
    "\n",
    "# Apply LexRank\n",
    "lexrank_scores, lexrank_results = lexrank(sentences, similarity_matrix)\n",
    "\n",
    "# Print all LexRank Scores (All sentences with their scores)\n",
    "print(\"LexRank Sentence Scores (All Sentences):\")\n",
    "for node, score in lexrank_scores.items():\n",
    "    print(f\"Sentence {node + 1}: Score: {score:.4f}\")\n",
    "\n",
    "# Print LexRank Summary (Ranked Sentences)\n",
    "print(\"\\nLexRank Summary:\")\n",
    "for score, sentence in lexrank_results:\n",
    "    print(f\"Score: {score:.4f}, Sentence: {sentence}\")\n"
   ]
  },
  {
   "cell_type": "markdown",
   "metadata": {
    "id": "KEFr4p64yFuq"
   },
   "source": [
    "2. Abstractive Summarization"
   ]
  },
  {
   "cell_type": "markdown",
   "metadata": {
    "id": "TeTAM1nyyIXS"
   },
   "source": [
    "Step 2-1 Import Libraries and Define the Source Text and Target Text"
   ]
  },
  {
   "cell_type": "code",
   "execution_count": 153,
   "metadata": {
    "id": "FAUs3voRyKn2"
   },
   "outputs": [],
   "source": [
    "import torch\n",
    "import torch.nn as nn\n",
    "import torch.optim as optim\n",
    "\n",
    "# Sample data: input sentence and target summary\n",
    "source_text = [\"artificial intelligence is transforming industries\"]\n",
    "target_text = [\"ai transforms industries\"]\n",
    "\n",
    "# Vocabulary\n",
    "vocab = [\"<pad>\", \"<sos>\", \"<eos>\", \"artificial\", \"intelligence\", \"is\",\n",
    "\"transforming\", \"industries\", \"ai\", \"transforms\"]\n",
    "word2idx = {word: idx for idx, word in enumerate(vocab)}\n",
    "idx2word = {idx: word for word, idx in word2idx.items()}\n",
    "\n",
    "# Convert sentences to indices\n",
    "def tokenize(text, word2idx):\n",
    "    return [[word2idx[\"<sos>\"]] + [word2idx[word]\n",
    "                                  for word in sentence.split()] +\n",
    "                                  [word2idx[\"<eos>\"]] for sentence in text]\n",
    "\n",
    "source_indices = tokenize(source_text, word2idx)\n",
    "target_indices = tokenize(target_text, word2idx)"
   ]
  },
  {
   "cell_type": "markdown",
   "metadata": {
    "id": "Pu4DASE9yNnv"
   },
   "source": [
    "Step 2-2 Converting to PyTorch Tensors\n"
   ]
  },
  {
   "cell_type": "code",
   "execution_count": 154,
   "metadata": {
    "id": "YDotVRHeyPdb"
   },
   "outputs": [],
   "source": [
    "source_indices = tokenize(source_text, word2idx)\n",
    "target_indices = tokenize(target_text, word2idx)\n",
    "\n",
    "# Convert to tensors\n",
    "source_tensor = torch.tensor(source_indices, dtype=torch.long)\n",
    "target_tensor = torch. tensor(target_indices, dtype=torch.long)"
   ]
  },
  {
   "cell_type": "markdown",
   "metadata": {
    "id": "7Vg_4hmZyR92"
   },
   "source": [
    "Step 2-3 Define Hyperparameters\n"
   ]
  },
  {
   "cell_type": "code",
   "execution_count": 155,
   "metadata": {
    "id": "0lkMChSUyTkS"
   },
   "outputs": [],
   "source": [
    "# Hyperparameters\n",
    "embedding_dim = 16\n",
    "hidden_dim = 32\n",
    "vocab_size = len(vocab)\n",
    "device = torch.device(\"cuda\" if torch.cuda.is_available() else \"cpu\")"
   ]
  },
  {
   "cell_type": "markdown",
   "metadata": {
    "id": "HTKnsXx7yWqC"
   },
   "source": [
    "Step 2-4 Define Encoder"
   ]
  },
  {
   "cell_type": "code",
   "execution_count": 156,
   "metadata": {
    "id": "X1UZsDcpyYVK"
   },
   "outputs": [],
   "source": [
    "# Encoder\n",
    "class Encoder(nn.Module):\n",
    "    def __init__(self, vocab_size, embedding_dim, hidden_dim):\n",
    "        super(Encoder, self).__init__()\n",
    "        self.embedding = nn.Embedding(vocab_size, embedding_dim)\n",
    "        self.lstm = nn.LSTM(embedding_dim, hidden_dim, batch_first=True)\n",
    "\n",
    "    def forward(self, x):\n",
    "        embedded = self.embedding(x)\n",
    "        outputs, (hidden, cell) = self.lstm(embedded)\n",
    "        return hidden, cell"
   ]
  },
  {
   "cell_type": "markdown",
   "metadata": {
    "id": "dCGuu6rAyZdW"
   },
   "source": [
    "Step 2-5 Define Decoder"
   ]
  },
  {
   "cell_type": "code",
   "execution_count": 157,
   "metadata": {
    "id": "0TKbbPRMybHC"
   },
   "outputs": [],
   "source": [
    "# Decoder\n",
    "class Decoder(nn.Module):\n",
    "    def __init__(self, vocab_size, embedding_dim, hidden_dim):\n",
    "        super(Decoder, self) .__init__()\n",
    "        self.embedding = nn. Embedding(vocab_size, embedding_dim)\n",
    "        self.lstm = nn.LSTM(embedding_dim, hidden_dim, batch_first=True)\n",
    "        self.fc = nn.Linear(hidden_dim, vocab_size)\n",
    "\n",
    "    def forward(self, x, hidden, cell):\n",
    "        x = x.unsqueeze(1) # Add batch dimension\n",
    "        embedded = self.embedding(x)\n",
    "        output, (hidden, cell) = self.lstm(embedded, (hidden, cell))\n",
    "        prediction = self.fc(output.squeeze(1))\n",
    "        return prediction, hidden, cell"
   ]
  },
  {
   "cell_type": "markdown",
   "metadata": {
    "id": "DMAEO6P9yceH"
   },
   "source": [
    "Step 2-6 Define Seq2seq Model"
   ]
  },
  {
   "cell_type": "code",
   "execution_count": 158,
   "metadata": {
    "id": "YSJfd40Zydym"
   },
   "outputs": [],
   "source": [
    "# Seq2Seq Model\n",
    "class Seq2Seq(nn.Module):\n",
    "    def __init__(self, encoder, decoder):\n",
    "        super(Seq2Seq, self) .__init__()\n",
    "        self.encoder = encoder\n",
    "        self.decoder = decoder\n",
    "\n",
    "    def forward(self, source, target, teacher_forcing_ratio=0.5):\n",
    "        batch_size = target.shape[0]\n",
    "        target_len = target. shape[1]\n",
    "        vocab_size = self.decoder.fc.out_features\n",
    "\n",
    "        outputs = torch.zeros(batch_size, target_len, vocab_size).to(device)\n",
    "        hidden, cell = self.encoder(source)\n",
    "\n",
    "        x = target[:, 0]\n",
    "        for t in range(1, target_len):\n",
    "            output, hidden, cell = self.decoder(x, hidden, cell)\n",
    "            outputs[:, t, : ] = output\n",
    "\n",
    "            teacher_force = torch.rand(1).item() < teacher_forcing_ratio\n",
    "            x = target[:, t] if teacher_force else output.argmax(1)\n",
    "\n",
    "        return outputs"
   ]
  },
  {
   "cell_type": "markdown",
   "metadata": {
    "id": "YnbhuL1myfDG"
   },
   "source": [
    "Step 2-7 Instantiate the Encoder and Decoder"
   ]
  },
  {
   "cell_type": "code",
   "execution_count": 159,
   "metadata": {
    "id": "zLuRp3JPyg_q"
   },
   "outputs": [],
   "source": [
    "# Instantiate the model\n",
    "encoder = Encoder(vocab_size, embedding_dim, hidden_dim).to(device)\n",
    "decoder = Decoder(vocab_size, embedding_dim, hidden_dim).to(device)\n",
    "model = Seq2Seq(encoder, decoder).to(device)"
   ]
  },
  {
   "cell_type": "markdown",
   "metadata": {
    "id": "bCAXZkcxyiQq"
   },
   "source": [
    "Step 2-8 Define the Loss Function and Optimizer"
   ]
  },
  {
   "cell_type": "code",
   "execution_count": 160,
   "metadata": {
    "id": "Xq4dWIkzyjoL"
   },
   "outputs": [],
   "source": [
    "# Loss and optimizer\n",
    "criterion = nn.CrossEntropyLoss(ignore_index=word2idx[\"<pad>\"])\n",
    "optimizer = optim.Adam(model.parameters())"
   ]
  },
  {
   "cell_type": "markdown",
   "metadata": {
    "id": "Go5PnpHgylkC"
   },
   "source": [
    "Step 2-9 Perform Training"
   ]
  },
  {
   "cell_type": "code",
   "execution_count": 161,
   "metadata": {
    "colab": {
     "base_uri": "https://localhost:8080/"
    },
    "id": "F5JEtL_Gyk8Q",
    "outputId": "dced5967-5a66-464f-94be-2e47ad4914a9"
   },
   "outputs": [
    {
     "name": "stdout",
     "output_type": "stream",
     "text": [
      "Epoch [10/100], Loss: 2.1773\n",
      "Epoch [20/100], Loss: 2.0275\n",
      "Epoch [30/100], Loss: 1.8136\n",
      "Epoch [40/100], Loss: 1.5201\n",
      "Epoch [50/100], Loss: 1.2592\n",
      "Epoch [60/100], Loss: 0.9904\n",
      "Epoch [70/100], Loss: 0.8126\n",
      "Epoch [80/100], Loss: 0.6529\n",
      "Epoch [90/100], Loss: 0.5140\n",
      "Epoch [100/100], Loss: 0.3992\n"
     ]
    }
   ],
   "source": [
    "# Training loop\n",
    "num_epochs = 100\n",
    "for epoch in range(num_epochs):\n",
    "    model.train()\n",
    "    optimizer.zero_grad()\n",
    "\n",
    "    source = source_tensor.to(device)\n",
    "    target = target_tensor.to(device)\n",
    "\n",
    "    output = model(source, target)\n",
    "    output = output[:, 1:].reshape(-1, vocab_size)\n",
    "    target = target[:, 1:].reshape(-1)\n",
    "\n",
    "    loss = criterion(output, target)\n",
    "    loss.backward()\n",
    "    optimizer.step()\n",
    "\n",
    "    if (epoch + 1) % 10 == 0:\n",
    "        print(f\"Epoch [{epoch+1}/{num_epochs}], Loss: {loss.item() :.4f}\")"
   ]
  },
  {
   "cell_type": "markdown",
   "metadata": {
    "id": "y6EL-gOdyqw-"
   },
   "source": [
    "Step 2-10 Generate Summary"
   ]
  },
  {
   "cell_type": "code",
   "execution_count": 162,
   "metadata": {
    "colab": {
     "base_uri": "https://localhost:8080/"
    },
    "id": "uh-17Cw2yreF",
    "outputId": "504e12f1-cd1c-48ce-cd31-17dabefe2ab7"
   },
   "outputs": [
    {
     "name": "stdout",
     "output_type": "stream",
     "text": [
      "Generated Summary: ai transforms industries\n"
     ]
    }
   ],
   "source": [
    "# Generate a summary\n",
    "model.eval()\n",
    "with torch.no_grad():\n",
    "    source = source_tensor.to(device)\n",
    "    hidden, cell = encoder(source)\n",
    "    x = torch.tensor([word2idx[\"<sos>\"]]).to(device)\n",
    "    summary = []\n",
    "\n",
    "    for _ in range(10):\n",
    "        output, hidden, cell = decoder(x, hidden, cell)\n",
    "        x = output. argmax(1)\n",
    "        word = idx2word[x.item()]\n",
    "        if word == \"<eos>\":\n",
    "            break\n",
    "        summary.append(word)\n",
    "\n",
    "print(\"Generated Summary:\", \" \".join(summary))"
   ]
  },
  {
   "cell_type": "markdown",
   "metadata": {
    "id": "He9u0iHCyta2"
   },
   "source": [
    "# Laboratory Task"
   ]
  },
  {
   "cell_type": "code",
   "execution_count": 163,
   "metadata": {
    "colab": {
     "base_uri": "https://localhost:8080/"
    },
    "id": "oWuzLB8e221t",
    "outputId": "796f59ce-73fa-4de5-9b19-b34367e3a5a7"
   },
   "outputs": [
    {
     "name": "stdout",
     "output_type": "stream",
     "text": [
      "Requirement already satisfied: networkx in /usr/local/lib/python3.10/dist-packages (3.4.2)\n",
      "Requirement already satisfied: rouge-score in /usr/local/lib/python3.10/dist-packages (0.1.2)\n",
      "Requirement already satisfied: scikit-learn in /usr/local/lib/python3.10/dist-packages (1.5.2)\n",
      "Requirement already satisfied: absl-py in /usr/local/lib/python3.10/dist-packages (from rouge-score) (1.4.0)\n",
      "Requirement already satisfied: nltk in /usr/local/lib/python3.10/dist-packages (from rouge-score) (3.9.1)\n",
      "Requirement already satisfied: numpy in /usr/local/lib/python3.10/dist-packages (from rouge-score) (1.26.4)\n",
      "Requirement already satisfied: six>=1.14.0 in /usr/local/lib/python3.10/dist-packages (from rouge-score) (1.16.0)\n",
      "Requirement already satisfied: scipy>=1.6.0 in /usr/local/lib/python3.10/dist-packages (from scikit-learn) (1.13.1)\n",
      "Requirement already satisfied: joblib>=1.2.0 in /usr/local/lib/python3.10/dist-packages (from scikit-learn) (1.4.2)\n",
      "Requirement already satisfied: threadpoolctl>=3.1.0 in /usr/local/lib/python3.10/dist-packages (from scikit-learn) (3.5.0)\n",
      "Requirement already satisfied: click in /usr/local/lib/python3.10/dist-packages (from nltk->rouge-score) (8.1.7)\n",
      "Requirement already satisfied: regex>=2021.8.3 in /usr/local/lib/python3.10/dist-packages (from nltk->rouge-score) (2024.9.11)\n",
      "Requirement already satisfied: tqdm in /usr/local/lib/python3.10/dist-packages (from nltk->rouge-score) (4.66.6)\n"
     ]
    },
    {
     "name": "stderr",
     "output_type": "stream",
     "text": [
      "[nltk_data] Downloading package brown to /root/nltk_data...\n",
      "[nltk_data]   Package brown is already up-to-date!\n"
     ]
    }
   ],
   "source": [
    "!pip install networkx rouge-score scikit-learn\n",
    "# Import necessary libraries\n",
    "import networkx as nx\n",
    "from sklearn.feature_extraction.text import TfidfVectorizer\n",
    "from sklearn.metrics.pairwise import cosine_similarity\n",
    "import nltk\n",
    "from nltk.corpus import brown\n",
    "from rouge_score import rouge_scorer\n",
    "nltk.download('brown')\n",
    "\n",
    "# Load built-in dataset (Brown Corpus)\n",
    "sentences = [\" \".join(sentence) for sentence in brown.sents(categories='news')[:100]]\n",
    "\n",
    "# Reference summary (manually crafted for simplicity)\n",
    "# Simulating a reference summary using the first 5 sentences\n",
    "reference_summary = \" \".join(sentences[:5])"
   ]
  },
  {
   "cell_type": "code",
   "execution_count": 164,
   "metadata": {
    "colab": {
     "base_uri": "https://localhost:8080/"
    },
    "id": "yLvpweJ025Gq",
    "outputId": "6aa59ad9-7c1c-4fba-8862-3e7e7aa34845"
   },
   "outputs": [
    {
     "name": "stdout",
     "output_type": "stream",
     "text": [
      "TextRank Sentence Scores:\n",
      "Score: 0.0205, Sentence: The jury further said in term-end presentments that the City Executive Committee , which had over-all charge of the election , `` deserves the praise and thanks of the City of Atlanta '' for the manner in which the election was conducted .\n",
      "Score: 0.0204, Sentence: `` This is one of the major items in the Fulton County general assistance program '' , the jury said , but the State Welfare Department `` has seen fit to distribute these funds through the welfare departments of all the counties in the state with the exception of Fulton County , which receives none of this money .\n",
      "Score: 0.0181, Sentence: `` Only a relative handful of such reports was received '' , the jury said , `` considering the widespread interest in the election , the number of voters and the size of this city '' .\n",
      "Score: 0.0170, Sentence: The jury also commented on the Fulton ordinary's court which has been under fire for its practices in the appointment of appraisers , guardians and administrators and the awarding of fees and compensation .\n",
      "Score: 0.0160, Sentence: The jury did not elaborate , but it added that `` there should be periodic surveillance of the pricing practices of the concessionaires for the purpose of keeping the prices reasonable '' .\n",
      "Score: 0.0154, Sentence: The bond issue will go to the state courts for a friendly test suit to test the validity of the act , and then the sales will begin and contracts let for repair work on some of Georgia's most heavily traveled highways .\n",
      "Score: 0.0149, Sentence: The grand jury commented on a number of other topics , among them the Atlanta and Fulton County purchasing departments which it said `` are well operated and follow generally accepted practices which inure to the best interest of both governments '' .\n",
      "Score: 0.0146, Sentence: The jury praised the administration and operation of the Atlanta Police Department , the Fulton Tax Commissioner's Office , the Bellwood and Alpharetta prison farms , Grady Hospital and the Fulton Health Department .\n",
      "Score: 0.0142, Sentence: Vandiver opened his race for governor in 1958 with a battle in the Legislature against the issuance of $50 million worth of additional rural roads bonds proposed by then Gov. Marvin Griffin .\n",
      "Score: 0.0140, Sentence: Five per cent of the voters in each county must sign petitions requesting that the Republicans be allowed to place names of candidates on the general election ballot , or 2\n",
      "Score: 0.0139, Sentence: It says that `` in the event Congress does provide this increase in federal funds '' , the State Board of Education should be directed to `` give priority '' to teacher pay raises .\n",
      "Score: 0.0138, Sentence: The Highway Department source told The Constitution , however , that Vandiver has not been consulted yet about the plans to issue the new rural roads bonds .\n",
      "Score: 0.0137, Sentence: In the Blue Ridge meeting , the audience was warned that entering a candidate for governor would force it to take petitions out into voting precincts to obtain the signatures of registered voters .\n",
      "Score: 0.0136, Sentence: The department apparently intends to make the Rural Roads Authority a revolving fund under which new bonds would be issued every time a portion of the old ones are paid off by tax authorities .\n",
      "Score: 0.0135, Sentence: Pelham said Sunday night there was research being done on whether the `` quickie '' vote on the increase can be repealed outright or whether notice would have to first be given that reconsideration of the action would be sought .\n",
      "Score: 0.0133, Sentence: Barber , who is in his 13th year as a legislator , said there `` are some members of our congressional delegation in Washington who would like to see it ( the resolution ) passed '' .\n",
      "Score: 0.0133, Sentence: It recommended that Fulton legislators act `` to have these laws studied and revised to the end of modernizing and improving them '' .\n",
      "Score: 0.0132, Sentence: `` These actions should serve to protect in fact and in effect the court's wards from undue costs and its appointed and elected servants from unmeritorious criticisms '' , the jury said .\n",
      "Score: 0.0130, Sentence: Before adjournment Monday afternoon , the Senate is expected to approve a study of the number of legislators allotted to rural and urban areas to determine what adjustments should be made .\n",
      "Score: 0.0129, Sentence: The jury said it found the court `` has incorporated into its operating procedures the recommendations '' of two previous grand juries , the Atlanta Bar Association and an interim citizens committee .\n",
      "Score: 0.0127, Sentence: Rep. Mac Barber of Commerce is asking the House in a privilege resolution to `` endorse increased federal support for public education , provided that such funds be received and expended '' as state funds .\n",
      "Score: 0.0127, Sentence: The petition said that the couple has not lived together as man and wife for more than a year .\n",
      "Score: 0.0127, Sentence: As of Sunday night , there was no word of a resolution being offered there to rescind the action .\n",
      "Score: 0.0127, Sentence: A Highway Department source said there also is a plan there to issue some $3 million to $4 million worth of Rural Roads Authority bonds for rural road construction work .\n",
      "Score: 0.0126, Sentence: Nevertheless , `` we feel that in the future Fulton County should receive some portion of these available funds '' , the jurors said .\n",
      "Score: 0.0125, Sentence: Meanwhile , it was learned the State Highway Department is very near being ready to issue the first $30 million worth of highway reconstruction bonds .\n",
      "Score: 0.0124, Sentence: It urged that the next Legislature `` provide enabling funds and re-set the effective date so that an orderly implementation of the law may be effected '' .\n",
      "Score: 0.0124, Sentence: A veteran Jackson County legislator will ask the Georgia House Monday to back federal aid to education , something it has consistently opposed in the past .\n",
      "Score: 0.0122, Sentence: However , the jury said it believes `` these two offices should be combined to achieve greater efficiency and reduce the cost of administration '' .\n",
      "Score: 0.0121, Sentence: Schley County Rep. B. D. Pelham will offer a resolution Monday in the House to rescind the body's action of Friday in voting itself a $10 per day increase in expense allowances .\n",
      "Score: 0.0119, Sentence: The September-October term jury had been charged by Fulton Superior Court Judge Durwood Pye to investigate reports of possible `` irregularities '' in the hard-fought primary which was won by Mayor-nominate Ivan Allen Jr. .\n",
      "Score: 0.0119, Sentence: The jury said it did find that many of Georgia's registration and election laws `` are outmoded or inadequate and often ambiguous '' .\n",
      "Score: 0.0119, Sentence: When the crowd was asked whether it wanted to wait one more term to make the race , it voted no -- and there were no dissents .\n",
      "Score: 0.0119, Sentence: The petition listed the mayor's occupation as `` attorney '' and his age as 71 .\n",
      "Score: 0.0118, Sentence: The largest hurdle the Republicans would have to face is a state law which says that before making a first race , one of two alternative courses must be taken : 1\n",
      "Score: 0.0118, Sentence: Many local citizens feared that there would be irregularities at the polls , and Williams got himself a permit to carry a gun and promised an orderly election .\n",
      "Score: 0.0117, Sentence: The campaign leading to the election was not so quiet , however .\n",
      "Score: 0.0116, Sentence: The Georgia Legislature will wind up its 1961 session Monday and head for home -- where some of the highway bond money it approved will follow shortly .\n",
      "Score: 0.0113, Sentence: -- After a long , hot controversy , Miller County has a new school superintendent , elected , as a policeman put it , in the `` coolest election I ever saw in this county '' .\n",
      "Score: 0.0113, Sentence: Four additional deputies be employed at the Fulton County Jail and `` a doctor , medical intern or extern be employed for night and weekend duty at the jail '' .\n",
      "Score: 0.0113, Sentence: Henry L. Bowden was listed on the petition as the mayor's attorney .\n",
      "Score: 0.0113, Sentence: State Party Chairman James W. Dorsey added that enthusiasm was picking up for a state rally to be held Sept. 8 in Savannah at which newly elected Texas Sen. John Tower will be the featured speaker .\n",
      "Score: 0.0113, Sentence: The Fulton County Grand Jury said Friday an investigation of Atlanta's recent primary election produced `` no evidence '' that any irregularities took place .\n",
      "Score: 0.0112, Sentence: He will be succeeded by Ivan Allen Jr. , who became a candidate in the Sept. 13 primary after Mayor Hartsfield announced that he would not run for reelection .\n",
      "Score: 0.0109, Sentence: The City Purchasing Department , the jury said , `` is lacking in experienced clerical personnel as a result of city personnel policies '' .\n",
      "Score: 0.0109, Sentence: Fulton legislators `` work with city officials to pass enabling legislation that will permit the establishment of a fair and equitable '' pension plan for city employes .\n",
      "Score: 0.0107, Sentence: Regarding Atlanta's new multi-million-dollar airport , the jury recommended `` that when the new management takes charge Jan. 1 the airport be operated in a manner that will eliminate political influences '' .\n",
      "Score: 0.0106, Sentence: The grand jury took a swipe at the State Welfare Department's handling of federal funds granted for child welfare services in foster homes .\n",
      "Score: 0.0101, Sentence: `` This was the coolest , calmest election I ever saw '' , Colquitt Policeman Tom Williams said .\n",
      "Score: 0.0101, Sentence: Vandiver likely will mention the $100 million highway bond issue approved earlier in the session as his first priority item .\n",
      "Score: 0.0100, Sentence: While emphasizing that technical details were not fully worked out , Pelham said his resolution would seek to set aside the privilege resolution which the House voted through 87-31 .\n",
      "Score: 0.0099, Sentence: The new school superintendent is Harry Davis , a veteran agriculture teacher , who defeated Felix Bush , a school principal and chairman of the Miller County Democratic Executive Committee .\n",
      "Score: 0.0099, Sentence: Ordinary Williams said he , too , was subjected to anonymous calls soon after he scheduled the election .\n",
      "Score: 0.0098, Sentence: But he added that none of Georgia's congressmen specifically asked him to offer the resolution .\n",
      "Score: 0.0096, Sentence: The resolution , which Barber tossed into the House hopper Friday , will be formally read Monday .\n",
      "Score: 0.0096, Sentence: Despite the warning , there was a unanimous vote to enter a candidate , according to Republicans who attended .\n",
      "Score: 0.0096, Sentence: A similar resolution passed in the Senate by a vote of 29-5 .\n",
      "Score: 0.0096, Sentence: Implementation of Georgia's automobile title law was also recommended by the outgoing jury .\n",
      "Score: 0.0095, Sentence: It urged that the city `` take steps to remedy '' this problem .\n",
      "Score: 0.0094, Sentence: Gov. Vandiver is expected to make the traditional visit to both chambers as they work toward adjournment .\n",
      "Score: 0.0094, Sentence: The Republicans must hold a primary under the county unit system -- a system which the party opposes in its platform .\n",
      "Score: 0.0092, Sentence: The former county school superintendent , George P. Callan , shot himself to death March 18 , four days after he resigned his post in a dispute with the county school board .\n",
      "Score: 0.0092, Sentence: His political career goes back to his election to city council in 1923 .\n",
      "Score: 0.0092, Sentence: Attorneys for the mayor said that an amicable property settlement has been agreed upon .\n",
      "Score: 0.0090, Sentence: On other matters , the jury recommended that : ( 1 )\n",
      "Score: 0.0090, Sentence: It listed his wife's age as 74 and place of birth as Opelika , Ala. .\n",
      "Score: 0.0083, Sentence: Georgia Republicans are getting strong encouragement to enter a candidate in the 1962 governor's race , a top official said Wednesday .\n",
      "Score: 0.0082, Sentence: Mayor William B. Hartsfield filed suit for divorce from his wife , Pearl Williams Hartsfield , in Fulton Superior Court Friday .\n",
      "Score: 0.0081, Sentence: Hartsfield has been mayor of Atlanta , with exception of one brief interlude , since 1937 .\n",
      "Score: 0.0081, Sentence: The jurors said they realize `` a proportionate distribution of these funds might disable this program in our less populous counties '' .\n",
      "Score: 0.0081, Sentence: During the election campaign , both candidates , Davis and Bush , reportedly received anonymous telephone calls .\n",
      "Score: 0.0081, Sentence: When the gubernatorial campaign starts , Caldwell is expected to become a campaign coordinator for Byrd .\n",
      "Score: 0.0080, Sentence: He will be succeeded by Rob Ledford of Gainesville , who has been an assistant more than three years .\n",
      "Score: 0.0078, Sentence: Pelham pointed out that Georgia voters last November rejected a constitutional amendment to allow legislators to vote on pay raises for future Legislature sessions .\n",
      "Score: 0.0077, Sentence: Ordinary Carey Williams , armed with a pistol , stood by at the polls to insure order .\n",
      "Score: 0.0076, Sentence: It was marked by controversy , anonymous midnight phone calls and veiled threats of violence .\n",
      "Score: 0.0076, Sentence: `` Failure to do this will continue to place a disproportionate burden '' on Fulton taxpayers .\n",
      "Score: 0.0074, Sentence: The mayor's present term of office expires Jan. 1 .\n",
      "Score: 0.0071, Sentence: -- Committee approval of Gov. Price Daniel's `` abandoned property '' act seemed certain Thursday despite the adamant protests of Texas bankers .\n",
      "Score: 0.0071, Sentence: Sam Caldwell , State Highway Department public relations director , resigned Tuesday to work for Lt. Gov. Garland Byrd's campaign .\n",
      "Score: 0.0069, Sentence: `` Being at the polls was just like being at church .\n",
      "Score: 0.0067, Sentence: Sheriff Felix Tabb said the ordinary apparently made good his promise .\n",
      "Score: 0.0067, Sentence: The Hartsfield home is at 637 E. Pelham Rd. Aj .\n",
      "Score: 0.0067, Sentence: Robert Snodgrass , state GOP chairman , said a meeting held Tuesday night in Blue Ridge brought enthusiastic responses from the audience .\n",
      "Score: 0.0065, Sentence: I didn't smell a drop of liquor , and we didn't have a bit of trouble '' .\n",
      "Score: 0.0064, Sentence: Davis received 1,119 votes in Saturday's election , and Bush got 402 .\n",
      "Score: 0.0058, Sentence: The couple was married Aug. 2 , 1913 .\n",
      "Score: 0.0057, Sentence: `` There wasn't a bit of trouble '' .\n",
      "Score: 0.0055, Sentence: They have a son , William Berry Jr. , and a daughter , Mrs. J. M. Cheshire of Griffin .\n",
      "Score: 0.0055, Sentence: `` Everything went real smooth '' , the sheriff said .\n",
      "Score: 0.0054, Sentence: Caldwell's resignation had been expected for some time .\n",
      "Score: 0.0038, Sentence: His petition charged mental cruelty .\n",
      "Score: 0.0030, Sentence: Construction bonds\n",
      "Score: 0.0025, Sentence: Ask jail deputies\n",
      "Score: 0.0023, Sentence: Colquitt\n",
      "Score: 0.0021, Sentence: A revolving fund\n",
      "Score: 0.0021, Sentence: Austin , Texas\n",
      "Score: 0.0018, Sentence: Merger proposed\n",
      "Score: 0.0018, Sentence: Wards protected\n",
      "Score: 0.0015, Sentence: ( 2 )\n"
     ]
    }
   ],
   "source": [
    "similarity_matrix = build_similarity_matrix(sentences)\n",
    "textrank_results = textrank(sentences, similarity_matrix)\n",
    "# Print TextRank Results (All sentences with their scores)\n",
    "print(\"TextRank Sentence Scores:\")\n",
    "for score, sentence in textrank_results:\n",
    "    print(f\"Score: {score:.4f}, Sentence: {sentence}\")\n",
    "\n"
   ]
  },
  {
   "cell_type": "code",
   "execution_count": 165,
   "metadata": {
    "colab": {
     "base_uri": "https://localhost:8080/",
     "height": 70
    },
    "id": "7HnTk-vU27Fd",
    "outputId": "c8b9e867-11f8-4a0c-9787-8f2004b1627e"
   },
   "outputs": [
    {
     "data": {
      "application/vnd.google.colaboratory.intrinsic+json": {
       "type": "string"
      },
      "text/plain": [
       "\"The jury further said in term-end presentments that the City Executive Committee , which had over-all charge of the election , `` deserves the praise and thanks of the City of Atlanta '' for the manner in which the election was conducted .\""
      ]
     },
     "execution_count": 165,
     "metadata": {},
     "output_type": "execute_result"
    }
   ],
   "source": [
    "textrank_results[0][1]"
   ]
  },
  {
   "cell_type": "code",
   "execution_count": 166,
   "metadata": {
    "colab": {
     "base_uri": "https://localhost:8080/"
    },
    "id": "ebUu7oxW28eu",
    "outputId": "7c78a7cb-70f4-46f3-d52f-7b5c98db30cf"
   },
   "outputs": [
    {
     "name": "stdout",
     "output_type": "stream",
     "text": [
      "LexRank Sentence Scores (All Sentences):\n",
      "Sentence 2: Score: 0.0286\n",
      "Sentence 4: Score: 0.0179\n",
      "Sentence 7: Score: 0.0206\n",
      "Sentence 10: Score: 0.0070\n",
      "Sentence 15: Score: 0.0491\n",
      "Sentence 19: Score: 0.0328\n",
      "Sentence 3: Score: 0.0115\n",
      "Sentence 44: Score: 0.0325\n",
      "Sentence 14: Score: 0.0086\n",
      "Sentence 16: Score: 0.0121\n",
      "Sentence 17: Score: 0.0119\n",
      "Sentence 24: Score: 0.0065\n",
      "Sentence 30: Score: 0.0117\n",
      "Sentence 21: Score: 0.0068\n",
      "Sentence 22: Score: 0.0069\n",
      "Sentence 25: Score: 0.0169\n",
      "Sentence 27: Score: 0.0169\n",
      "Sentence 36: Score: 0.0281\n",
      "Sentence 37: Score: 0.0153\n",
      "Sentence 38: Score: 0.0069\n",
      "Sentence 40: Score: 0.0175\n",
      "Sentence 56: Score: 0.0125\n",
      "Sentence 94: Score: 0.0113\n",
      "Sentence 45: Score: 0.0169\n",
      "Sentence 49: Score: 0.0169\n",
      "Sentence 46: Score: 0.0169\n",
      "Sentence 48: Score: 0.0169\n",
      "Sentence 50: Score: 0.0122\n",
      "Sentence 74: Score: 0.0247\n",
      "Sentence 54: Score: 0.0114\n",
      "Sentence 57: Score: 0.0261\n",
      "Sentence 55: Score: 0.0095\n",
      "Sentence 90: Score: 0.0137\n",
      "Sentence 58: Score: 0.0183\n",
      "Sentence 61: Score: 0.0163\n",
      "Sentence 64: Score: 0.0097\n",
      "Sentence 63: Score: 0.0216\n",
      "Sentence 62: Score: 0.0089\n",
      "Sentence 65: Score: 0.0374\n",
      "Sentence 69: Score: 0.0261\n",
      "Sentence 67: Score: 0.0203\n",
      "Sentence 68: Score: 0.0084\n",
      "Sentence 66: Score: 0.0094\n",
      "Sentence 70: Score: 0.0169\n",
      "Sentence 80: Score: 0.0169\n",
      "Sentence 71: Score: 0.0139\n",
      "Sentence 77: Score: 0.0169\n",
      "Sentence 81: Score: 0.0169\n",
      "Sentence 82: Score: 0.0104\n",
      "Sentence 87: Score: 0.0201\n",
      "Sentence 83: Score: 0.0249\n",
      "Sentence 84: Score: 0.0146\n",
      "Sentence 92: Score: 0.0146\n",
      "Sentence 85: Score: 0.0169\n",
      "Sentence 93: Score: 0.0169\n",
      "Sentence 86: Score: 0.0169\n",
      "Sentence 88: Score: 0.0169\n",
      "Sentence 89: Score: 0.0169\n",
      "Sentence 98: Score: 0.0169\n",
      "\n",
      "LexRank Summary:\n",
      "Score: 0.0491, Sentence: `` This is one of the major items in the Fulton County general assistance program '' , the jury said , but the State Welfare Department `` has seen fit to distribute these funds through the welfare departments of all the counties in the state with the exception of Fulton County , which receives none of this money .\n",
      "Score: 0.0374, Sentence: A Highway Department source said there also is a plan there to issue some $3 million to $4 million worth of Rural Roads Authority bonds for rural road construction work .\n",
      "Score: 0.0328, Sentence: The jury also commented on the Fulton ordinary's court which has been under fire for its practices in the appointment of appraisers , guardians and administrators and the awarding of fees and compensation .\n",
      "Score: 0.0325, Sentence: He will be succeeded by Ivan Allen Jr. , who became a candidate in the Sept. 13 primary after Mayor Hartsfield announced that he would not run for reelection .\n",
      "Score: 0.0286, Sentence: The jury further said in term-end presentments that the City Executive Committee , which had over-all charge of the election , `` deserves the praise and thanks of the City of Atlanta '' for the manner in which the election was conducted .\n",
      "Score: 0.0281, Sentence: The petition listed the mayor's occupation as `` attorney '' and his age as 71 .\n",
      "Score: 0.0261, Sentence: When the gubernatorial campaign starts , Caldwell is expected to become a campaign coordinator for Byrd .\n",
      "Score: 0.0261, Sentence: The Highway Department source told The Constitution , however , that Vandiver has not been consulted yet about the plans to issue the new rural roads bonds .\n",
      "Score: 0.0249, Sentence: -- After a long , hot controversy , Miller County has a new school superintendent , elected , as a policeman put it , in the `` coolest election I ever saw in this county '' .\n",
      "Score: 0.0247, Sentence: As of Sunday night , there was no word of a resolution being offered there to rescind the action .\n",
      "Score: 0.0216, Sentence: Meanwhile , it was learned the State Highway Department is very near being ready to issue the first $30 million worth of highway reconstruction bonds .\n",
      "Score: 0.0206, Sentence: The grand jury commented on a number of other topics , among them the Atlanta and Fulton County purchasing departments which it said `` are well operated and follow generally accepted practices which inure to the best interest of both governments '' .\n",
      "Score: 0.0203, Sentence: The department apparently intends to make the Rural Roads Authority a revolving fund under which new bonds would be issued every time a portion of the old ones are paid off by tax authorities .\n",
      "Score: 0.0201, Sentence: `` This was the coolest , calmest election I ever saw '' , Colquitt Policeman Tom Williams said .\n",
      "Score: 0.0183, Sentence: The Georgia Legislature will wind up its 1961 session Monday and head for home -- where some of the highway bond money it approved will follow shortly .\n",
      "Score: 0.0179, Sentence: `` Only a relative handful of such reports was received '' , the jury said , `` considering the widespread interest in the election , the number of voters and the size of this city '' .\n",
      "Score: 0.0175, Sentence: Henry L. Bowden was listed on the petition as the mayor's attorney .\n",
      "Score: 0.0169, Sentence: `` There wasn't a bit of trouble '' .\n",
      "Score: 0.0169, Sentence: `` Being at the polls was just like being at church .\n",
      "Score: 0.0169, Sentence: The resolution , which Barber tossed into the House hopper Friday , will be formally read Monday .\n",
      "Score: 0.0169, Sentence: Schley County Rep. B. D. Pelham will offer a resolution Monday in the House to rescind the body's action of Friday in voting itself a $10 per day increase in expense allowances .\n",
      "Score: 0.0169, Sentence: Robert Snodgrass , state GOP chairman , said a meeting held Tuesday night in Blue Ridge brought enthusiastic responses from the audience .\n",
      "Score: 0.0169, Sentence: Rep. Mac Barber of Commerce is asking the House in a privilege resolution to `` endorse increased federal support for public education , provided that such funds be received and expended '' as state funds .\n",
      "Score: 0.0169, Sentence: Ordinary Carey Williams , armed with a pistol , stood by at the polls to insure order .\n",
      "Score: 0.0169, Sentence: It says that `` in the event Congress does provide this increase in federal funds '' , the State Board of Education should be directed to `` give priority '' to teacher pay raises .\n",
      "Score: 0.0169, Sentence: In the Blue Ridge meeting , the audience was warned that entering a candidate for governor would force it to take petitions out into voting precincts to obtain the signatures of registered voters .\n",
      "Score: 0.0169, Sentence: I didn't smell a drop of liquor , and we didn't have a bit of trouble '' .\n",
      "Score: 0.0169, Sentence: Georgia Republicans are getting strong encouragement to enter a candidate in the 1962 governor's race , a top official said Wednesday .\n",
      "Score: 0.0169, Sentence: Four additional deputies be employed at the Fulton County Jail and `` a doctor , medical intern or extern be employed for night and weekend duty at the jail '' .\n",
      "Score: 0.0169, Sentence: During the election campaign , both candidates , Davis and Bush , reportedly received anonymous telephone calls .\n",
      "Score: 0.0169, Sentence: Despite the warning , there was a unanimous vote to enter a candidate , according to Republicans who attended .\n",
      "Score: 0.0169, Sentence: Davis received 1,119 votes in Saturday's election , and Bush got 402 .\n",
      "Score: 0.0169, Sentence: Ask jail deputies\n",
      "Score: 0.0163, Sentence: Vandiver likely will mention the $100 million highway bond issue approved earlier in the session as his first priority item .\n",
      "Score: 0.0153, Sentence: It listed his wife's age as 74 and place of birth as Opelika , Ala. .\n",
      "Score: 0.0146, Sentence: The new school superintendent is Harry Davis , a veteran agriculture teacher , who defeated Felix Bush , a school principal and chairman of the Miller County Democratic Executive Committee .\n",
      "Score: 0.0146, Sentence: The former county school superintendent , George P. Callan , shot himself to death March 18 , four days after he resigned his post in a dispute with the county school board .\n",
      "Score: 0.0139, Sentence: Pelham said Sunday night there was research being done on whether the `` quickie '' vote on the increase can be repealed outright or whether notice would have to first be given that reconsideration of the action would be sought .\n",
      "Score: 0.0137, Sentence: The campaign leading to the election was not so quiet , however .\n",
      "Score: 0.0125, Sentence: He will be succeeded by Rob Ledford of Gainesville , who has been an assistant more than three years .\n",
      "Score: 0.0122, Sentence: When the crowd was asked whether it wanted to wait one more term to make the race , it voted no -- and there were no dissents .\n",
      "Score: 0.0121, Sentence: The jurors said they realize `` a proportionate distribution of these funds might disable this program in our less populous counties '' .\n",
      "Score: 0.0119, Sentence: Nevertheless , `` we feel that in the future Fulton County should receive some portion of these available funds '' , the jurors said .\n",
      "Score: 0.0117, Sentence: The jury praised the administration and operation of the Atlanta Police Department , the Fulton Tax Commissioner's Office , the Bellwood and Alpharetta prison farms , Grady Hospital and the Fulton Health Department .\n",
      "Score: 0.0115, Sentence: The September-October term jury had been charged by Fulton Superior Court Judge Durwood Pye to investigate reports of possible `` irregularities '' in the hard-fought primary which was won by Mayor-nominate Ivan Allen Jr. .\n",
      "Score: 0.0114, Sentence: Sam Caldwell , State Highway Department public relations director , resigned Tuesday to work for Lt. Gov. Garland Byrd's campaign .\n",
      "Score: 0.0113, Sentence: Ordinary Williams said he , too , was subjected to anonymous calls soon after he scheduled the election .\n",
      "Score: 0.0104, Sentence: Colquitt\n",
      "Score: 0.0097, Sentence: The bond issue will go to the state courts for a friendly test suit to test the validity of the act , and then the sales will begin and contracts let for repair work on some of Georgia's most heavily traveled highways .\n",
      "Score: 0.0095, Sentence: Caldwell's resignation had been expected for some time .\n",
      "Score: 0.0094, Sentence: A revolving fund\n",
      "Score: 0.0089, Sentence: Construction bonds\n",
      "Score: 0.0086, Sentence: The grand jury took a swipe at the State Welfare Department's handling of federal funds granted for child welfare services in foster homes .\n",
      "Score: 0.0084, Sentence: Vandiver opened his race for governor in 1958 with a battle in the Legislature against the issuance of $50 million worth of additional rural roads bonds proposed by then Gov. Marvin Griffin .\n",
      "Score: 0.0070, Sentence: The City Purchasing Department , the jury said , `` is lacking in experienced clerical personnel as a result of city personnel policies '' .\n",
      "Score: 0.0069, Sentence: `` These actions should serve to protect in fact and in effect the court's wards from undue costs and its appointed and elected servants from unmeritorious criticisms '' , the jury said .\n",
      "Score: 0.0069, Sentence: The petition said that the couple has not lived together as man and wife for more than a year .\n",
      "Score: 0.0068, Sentence: The jury said it found the court `` has incorporated into its operating procedures the recommendations '' of two previous grand juries , the Atlanta Bar Association and an interim citizens committee .\n",
      "Score: 0.0065, Sentence: The jury did not elaborate , but it added that `` there should be periodic surveillance of the pricing practices of the concessionaires for the purpose of keeping the prices reasonable '' .\n"
     ]
    }
   ],
   "source": [
    "# Build similarity matrix\n",
    "similarity_matrix = build_similarity_matrix(sentences)\n",
    "\n",
    "# Apply LexRank\n",
    "lexrank_scores, lexrank_results = lexrank(sentences, similarity_matrix)\n",
    "\n",
    "# Print all LexRank Scores (All sentences with their scores)\n",
    "print(\"LexRank Sentence Scores (All Sentences):\")\n",
    "for node, score in lexrank_scores.items():\n",
    "    print(f\"Sentence {node + 1}: Score: {score:.4f}\")\n",
    "\n",
    "# Print LexRank Summary (Ranked Sentences)\n",
    "print(\"\\nLexRank Summary:\")\n",
    "\n",
    "for score, sentence in lexrank_results:\n",
    "    print(f\"Score: {score:.4f}, Sentence: {sentence}\")"
   ]
  },
  {
   "cell_type": "code",
   "execution_count": 167,
   "metadata": {
    "colab": {
     "base_uri": "https://localhost:8080/"
    },
    "id": "0rKGwnXn2-Am",
    "outputId": "5c3f4df1-8456-4fc8-df37-5c26526f959f"
   },
   "outputs": [
    {
     "name": "stdout",
     "output_type": "stream",
     "text": [
      "Text Rank Summary:\n",
      "The jury further said in term-end presentments that the City Executive Committee , which had over-all charge of the election , `` deserves the praise and thanks of the City of Atlanta '' for the manner in which the election was conducted . `` This is one of the major items in the Fulton County general assistance program '' , the jury said , but the State Welfare Department `` has seen fit to distribute these funds through the welfare departments of all the counties in the state with the exception of Fulton County , which receives none of this money . `` Only a relative handful of such reports was received '' , the jury said , `` considering the widespread interest in the election , the number of voters and the size of this city '' . The jury also commented on the Fulton ordinary's court which has been under fire for its practices in the appointment of appraisers , guardians and administrators and the awarding of fees and compensation . The jury did not elaborate , but it added that `` there should be periodic surveillance of the pricing practices of the concessionaires for the purpose of keeping the prices reasonable '' .\n",
      "Lex Rank Summary:\n",
      "`` This is one of the major items in the Fulton County general assistance program '' , the jury said , but the State Welfare Department `` has seen fit to distribute these funds through the welfare departments of all the counties in the state with the exception of Fulton County , which receives none of this money . A Highway Department source said there also is a plan there to issue some $3 million to $4 million worth of Rural Roads Authority bonds for rural road construction work . The jury also commented on the Fulton ordinary's court which has been under fire for its practices in the appointment of appraisers , guardians and administrators and the awarding of fees and compensation . He will be succeeded by Ivan Allen Jr. , who became a candidate in the Sept. 13 primary after Mayor Hartsfield announced that he would not run for reelection . The jury further said in term-end presentments that the City Executive Committee , which had over-all charge of the election , `` deserves the praise and thanks of the City of Atlanta '' for the manner in which the election was conducted .\n"
     ]
    }
   ],
   "source": [
    "# Using the top 5 sentences as summary\n",
    "\n",
    "textrank_summary=' '.join(sentence for _, sentence in textrank_results[:5])\n",
    "lexrank_summary=' '.join(sentence for _, sentence in lexrank_results[:5])\n",
    "print(\"Text Rank Summary:\")\n",
    "print(textrank_summary)\n",
    "print(\"Lex Rank Summary:\")\n",
    "print(lexrank_summary)"
   ]
  },
  {
   "cell_type": "code",
   "execution_count": 168,
   "metadata": {
    "colab": {
     "base_uri": "https://localhost:8080/"
    },
    "id": "OIyCW-qW2_ll",
    "outputId": "a3bbd0b4-1ae4-48e0-e0c0-a19d9c05772b"
   },
   "outputs": [
    {
     "name": "stdout",
     "output_type": "stream",
     "text": [
      "\n",
      "ROUGE Scores Comparison:\n",
      "\n",
      "LexRank ROUGE Scores:\n",
      "ROUGE1 Precision: 0.4481, Recall: 0.5503, F1: 0.4940\n",
      "ROUGE2 Precision: 0.2747, Recall: 0.3378, F1: 0.3030\n",
      "ROUGE3 Precision: 0.2265, Recall: 0.2789, F1: 0.2500\n",
      "\n",
      "TextRank ROUGE Scores:\n",
      "ROUGE1 Precision: 0.5137, Recall: 0.6309, F1: 0.5663\n",
      "ROUGE2 Precision: 0.4011, Recall: 0.4932, F1: 0.4424\n",
      "ROUGE3 Precision: 0.3812, Recall: 0.4694, F1: 0.4207\n"
     ]
    }
   ],
   "source": [
    "scorer = rouge_scorer.RougeScorer(['rouge1', 'rouge2', 'rouge3'], use_stemmer=True)\n",
    "\n",
    "lexrank_scores = scorer.score(reference_summary, lexrank_summary)\n",
    "textrank_scores = scorer.score(reference_summary, textrank_summary)\n",
    "\n",
    "\n",
    "# Print ROUGE comparison\n",
    "print(\"\\nROUGE Scores Comparison:\")\n",
    "print(\"\\nLexRank ROUGE Scores:\")\n",
    "for metric, score in lexrank_scores.items():\n",
    "    print(f\"{metric.upper()} Precision: {score.precision:.4f}, Recall: {score.recall:.4f}, F1: {score.fmeasure:.4f}\")\n",
    "\n",
    "print(\"\\nTextRank ROUGE Scores:\")\n",
    "for metric, score in textrank_scores.items():\n",
    "    print(f\"{metric.upper()} Precision: {score.precision:.4f}, Recall: {score.recall:.4f}, F1: {score.fmeasure:.4f}\")"
   ]
  },
  {
   "cell_type": "markdown",
   "metadata": {
    "id": "dlWYXqNbXX4_"
   },
   "source": [
    "# LexRank Performance\n",
    "To find the best threshold for LexRank, I tested multiple values and compared the ROUGE scores. The threshold controls how similar sentences need to be to connect in the graph, which directly impacts the summary quality.\n",
    "\n",
    "**Threshold: 0.5**\n",
    "\n",
    "With a threshold of 0.5, LexRank didn’t perform well:\n",
    "\n",
    "*   ROUGE-1 F1: 0.1023\n",
    "*   ROUGE-2 F1: 0.0000\n",
    "*   ROUGE-3 F1: 0.0000\n",
    "\n",
    "The scores show that very few sentences were considered similar enough to connect, resulting in weak summaries.\n",
    "\n",
    "\n",
    "\n",
    "**Threshold: 0.2**\n",
    "\n",
    "When the threshold was reduced to 0.2, LexRank’s performance improved significantly:\n",
    "\n",
    "*   ROUGE-1 F1: 0.4940\n",
    "*  ROUGE-2 F1: 0.3030\n",
    "*  ROUGE-3 F1: 0.2500\n",
    "\n",
    "A lower threshold allowed more connections between sentences, leading to better-ranked summaries."
   ]
  },
  {
   "cell_type": "markdown",
   "metadata": {
    "id": "p1_kt8PEZhZs"
   },
   "source": [
    "# TextRank Performance\n",
    "TextRank’s scores stayed consistent across both thresholds:\n",
    "\n",
    "*   ROUGE-1 F1: 0.5663\n",
    "*   ROUGE-2 F1: 0.4424\n",
    "*   ROUGE-3 F1: 0.4207\n",
    "\n",
    "This shows that TextRank is less affected by changes in LexRank’s threshold and delivers stable results."
   ]
  },
  {
   "cell_type": "markdown",
   "metadata": {
    "id": "m6VoKunyaofX"
   },
   "source": [
    "# Key Takeaways\n",
    "**1. LexRank’s Sensitivity:** LexRank’s performance depends heavily on the threshold. A high threshold (like 0.5) creates weak connections, while a lower threshold (like 0.2) gives much better results.\n",
    "\n",
    "**2. TextRank’s Stability:** TextRank consistently produces good summaries, regardless of LexRank’s threshold changes.\n",
    "\n",
    "**3. Best Threshold for LexRank:** The best LexRank performance came with a threshold of 0.2, making it competitive with TextRank."
   ]
  },
  {
   "cell_type": "markdown",
   "metadata": {
    "id": "HObf9lNja1rT"
   },
   "source": [
    "# Conclusion\n",
    "Setting LexRank’s threshold to 0.2 gives the best balance between precision and recall, resulting in better summaries. While TextRank outperforms LexRank overall, tuning the threshold improves LexRank significantly."
   ]
  }
 ],
 "metadata": {
  "colab": {
   "provenance": []
  },
  "kernelspec": {
   "display_name": "Python 3 (ipykernel)",
   "language": "python",
   "name": "python3"
  },
  "language_info": {
   "codemirror_mode": {
    "name": "ipython",
    "version": 3
   },
   "file_extension": ".py",
   "mimetype": "text/x-python",
   "name": "python",
   "nbconvert_exporter": "python",
   "pygments_lexer": "ipython3",
   "version": "3.9.13"
  }
 },
 "nbformat": 4,
 "nbformat_minor": 1
}
